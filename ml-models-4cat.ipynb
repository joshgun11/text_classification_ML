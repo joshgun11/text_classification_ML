{
 "cells": [
  {
   "cell_type": "code",
   "execution_count": 1,
   "metadata": {
    "execution": {
     "iopub.execute_input": "2021-06-06T21:54:47.946761Z",
     "iopub.status.busy": "2021-06-06T21:54:47.946484Z",
     "iopub.status.idle": "2021-06-06T21:54:56.044929Z",
     "shell.execute_reply": "2021-06-06T21:54:56.043960Z",
     "shell.execute_reply.started": "2021-06-06T21:54:47.946700Z"
    }
   },
   "outputs": [
    {
     "name": "stderr",
     "output_type": "stream",
     "text": [
      "/opt/conda/lib/python3.7/site-packages/torchaudio/backend/utils.py:54: UserWarning: \"sox\" backend is being deprecated. The default backend will be changed to \"sox_io\" backend in 0.8.0 and \"sox\" backend will be removed in 0.9.0. Please migrate to \"sox_io\" backend. Please refer to https://github.com/pytorch/audio/issues/903 for the detail.\n",
      "  '\"sox\" backend is being deprecated. '\n"
     ]
    }
   ],
   "source": [
    "import pandas as pd\n",
    "from io import StringIO\n",
    "import matplotlib.pyplot as plt\n",
    "import seaborn as sns\n",
    "from sklearn.feature_extraction.text import TfidfVectorizer\n",
    "from sklearn.feature_selection import chi2\n",
    "import numpy as np\n",
    "from sklearn.linear_model import LogisticRegression\n",
    "from sklearn.ensemble import RandomForestClassifier\n",
    "from sklearn.naive_bayes import MultinomialNB\n",
    "from sklearn.svm import LinearSVC\n",
    "from sklearn.neighbors import KNeighborsClassifier\n",
    "from sklearn.model_selection import cross_val_score\n",
    "from sklearn.model_selection import train_test_split\n",
    "from sklearn.metrics import confusion_matrix\n",
    "from sklearn import metrics\n",
    "import tensorflow as tf\n",
    "import tensorflow_hub as hub\n",
    "import pandas as pd\n",
    "from sklearn.model_selection import train_test_split\n",
    "import numpy as np\n",
    "import re\n",
    "import unicodedata\n",
    "import nltk\n",
    "from nltk.corpus import stopwords\n",
    "from tensorflow import keras\n",
    "from tensorflow.keras.layers import Dense,Dropout, Input\n",
    "from tqdm import tqdm\n",
    "import pickle\n",
    "from sklearn.metrics import confusion_matrix,f1_score,classification_report\n",
    "import matplotlib.pyplot as plt\n",
    "import itertools\n",
    "from sklearn.utils import shuffle\n",
    "from tensorflow.keras import regularizers\n",
    "from transformers import *\n",
    "from transformers import BertTokenizer, TFBertModel, BertConfig,TFDistilBertModel,DistilBertTokenizer,DistilBertConfig\n",
    "import re\n",
    "import string"
   ]
  },
  {
   "cell_type": "markdown",
   "metadata": {},
   "source": [
    "# Building Classic Machine Learning Algorithms and Selecting Best One "
   ]
  },
  {
   "cell_type": "code",
   "execution_count": 2,
   "metadata": {
    "execution": {
     "iopub.execute_input": "2021-06-06T21:54:59.645329Z",
     "iopub.status.busy": "2021-06-06T21:54:59.644972Z",
     "iopub.status.idle": "2021-06-06T21:55:00.097437Z",
     "shell.execute_reply": "2021-06-06T21:55:00.096549Z",
     "shell.execute_reply.started": "2021-06-06T21:54:59.645284Z"
    }
   },
   "outputs": [],
   "source": [
    "data_4 = pd.read_csv('../input/6-cat-data/third.csv')"
   ]
  },
  {
   "cell_type": "code",
   "execution_count": 3,
   "metadata": {
    "execution": {
     "iopub.execute_input": "2021-06-06T21:55:02.101234Z",
     "iopub.status.busy": "2021-06-06T21:55:02.100789Z",
     "iopub.status.idle": "2021-06-06T21:55:02.112995Z",
     "shell.execute_reply": "2021-06-06T21:55:02.112024Z",
     "shell.execute_reply.started": "2021-06-06T21:55:02.101182Z"
    }
   },
   "outputs": [],
   "source": [
    "col = ['Category', 'Content']\n",
    "df = data_4[col]"
   ]
  },
  {
   "cell_type": "code",
   "execution_count": 4,
   "metadata": {
    "execution": {
     "iopub.execute_input": "2021-06-06T21:55:06.190366Z",
     "iopub.status.busy": "2021-06-06T21:55:06.190019Z",
     "iopub.status.idle": "2021-06-06T21:55:06.202238Z",
     "shell.execute_reply": "2021-06-06T21:55:06.201449Z",
     "shell.execute_reply.started": "2021-06-06T21:55:06.190332Z"
    }
   },
   "outputs": [],
   "source": [
    "df['category_id'] = df['Category'].factorize()[0]\n",
    "category_id_df = df[['Category', 'category_id']].drop_duplicates().sort_values('category_id')\n",
    "category_to_id = dict(category_id_df.values)\n",
    "id_to_category = dict(category_id_df[['category_id', 'Category']].values)"
   ]
  },
  {
   "cell_type": "code",
   "execution_count": 9,
   "metadata": {
    "execution": {
     "iopub.execute_input": "2021-06-06T21:55:45.220138Z",
     "iopub.status.busy": "2021-06-06T21:55:45.219798Z",
     "iopub.status.idle": "2021-06-06T21:55:45.225550Z",
     "shell.execute_reply": "2021-06-06T21:55:45.224643Z",
     "shell.execute_reply.started": "2021-06-06T21:55:45.220105Z"
    }
   },
   "outputs": [],
   "source": [
    "df = df.drop(2126)"
   ]
  },
  {
   "cell_type": "code",
   "execution_count": 11,
   "metadata": {
    "execution": {
     "iopub.execute_input": "2021-06-06T21:55:49.637611Z",
     "iopub.status.busy": "2021-06-06T21:55:49.637283Z",
     "iopub.status.idle": "2021-06-06T21:55:58.373701Z",
     "shell.execute_reply": "2021-06-06T21:55:58.372692Z",
     "shell.execute_reply.started": "2021-06-06T21:55:49.637580Z"
    }
   },
   "outputs": [
    {
     "data": {
      "text/plain": [
       "(2126, 52707)"
      ]
     },
     "execution_count": 11,
     "metadata": {},
     "output_type": "execute_result"
    }
   ],
   "source": [
    "tfidf = TfidfVectorizer(sublinear_tf=True, min_df=5, norm='l2', encoding='latin-1', ngram_range=(1, 2), stop_words='english')\n",
    "\n",
    "features = tfidf.fit_transform(df.Content).toarray()\n",
    "labels = df.category_id\n",
    "features.shape"
   ]
  },
  {
   "cell_type": "code",
   "execution_count": 13,
   "metadata": {
    "execution": {
     "iopub.execute_input": "2021-06-06T21:56:27.602466Z",
     "iopub.status.busy": "2021-06-06T21:56:27.602084Z",
     "iopub.status.idle": "2021-06-06T21:56:27.612698Z",
     "shell.execute_reply": "2021-06-06T21:56:27.611576Z",
     "shell.execute_reply.started": "2021-06-06T21:56:27.602433Z"
    }
   },
   "outputs": [],
   "source": [
    "def model_selection(features,labels):\n",
    "    models = [\n",
    "        RandomForestClassifier(n_estimators=200, max_depth=3, random_state=0),\n",
    "        LinearSVC(),\n",
    "        MultinomialNB(),\n",
    "        LogisticRegression(random_state=0),KNeighborsClassifier(n_neighbors=5)\n",
    "    ]\n",
    "    CV = 5\n",
    "    cv_df = pd.DataFrame(index=range(CV * len(models)))\n",
    "    entries = []\n",
    "    for model in models:\n",
    "        model_name = model.__class__.__name__\n",
    "        accuracy = cross_val_score(model, features, labels, scoring='accuracy', cv=CV).mean()\n",
    "        entries.append((model_name,accuracy))\n",
    "    cv_df = pd.DataFrame(entries, columns=['model_name','accuracy'])\n",
    "    scores = []\n",
    "    for i in entries:\n",
    "        scores.append(i[1])\n",
    "    best = max(scores)\n",
    "    for i in entries:\n",
    "        if i[1]==best:\n",
    "            print(\"Best model is \"+str(i[0])+\" with \"+str(best))\n",
    "            \n",
    "    return cv_df\n",
    "    \n",
    "        "
   ]
  },
  {
   "cell_type": "code",
   "execution_count": 14,
   "metadata": {
    "execution": {
     "iopub.execute_input": "2021-06-06T21:56:33.029266Z",
     "iopub.status.busy": "2021-06-06T21:56:33.028932Z",
     "iopub.status.idle": "2021-06-06T21:59:46.083480Z",
     "shell.execute_reply": "2021-06-06T21:59:46.082586Z",
     "shell.execute_reply.started": "2021-06-06T21:56:33.029220Z"
    }
   },
   "outputs": [
    {
     "name": "stdout",
     "output_type": "stream",
     "text": [
      "Best model is LinearSVC with 0.7868975421154377\n"
     ]
    },
    {
     "data": {
      "text/html": [
       "<div>\n",
       "<style scoped>\n",
       "    .dataframe tbody tr th:only-of-type {\n",
       "        vertical-align: middle;\n",
       "    }\n",
       "\n",
       "    .dataframe tbody tr th {\n",
       "        vertical-align: top;\n",
       "    }\n",
       "\n",
       "    .dataframe thead th {\n",
       "        text-align: right;\n",
       "    }\n",
       "</style>\n",
       "<table border=\"1\" class=\"dataframe\">\n",
       "  <thead>\n",
       "    <tr style=\"text-align: right;\">\n",
       "      <th></th>\n",
       "      <th>model_name</th>\n",
       "      <th>accuracy</th>\n",
       "    </tr>\n",
       "  </thead>\n",
       "  <tbody>\n",
       "    <tr>\n",
       "      <th>0</th>\n",
       "      <td>RandomForestClassifier</td>\n",
       "      <td>0.381476</td>\n",
       "    </tr>\n",
       "    <tr>\n",
       "      <th>1</th>\n",
       "      <td>LinearSVC</td>\n",
       "      <td>0.786898</td>\n",
       "    </tr>\n",
       "    <tr>\n",
       "      <th>2</th>\n",
       "      <td>MultinomialNB</td>\n",
       "      <td>0.466578</td>\n",
       "    </tr>\n",
       "    <tr>\n",
       "      <th>3</th>\n",
       "      <td>LogisticRegression</td>\n",
       "      <td>0.719159</td>\n",
       "    </tr>\n",
       "    <tr>\n",
       "      <th>4</th>\n",
       "      <td>KNeighborsClassifier</td>\n",
       "      <td>0.608643</td>\n",
       "    </tr>\n",
       "  </tbody>\n",
       "</table>\n",
       "</div>"
      ],
      "text/plain": [
       "               model_name  accuracy\n",
       "0  RandomForestClassifier  0.381476\n",
       "1               LinearSVC  0.786898\n",
       "2           MultinomialNB  0.466578\n",
       "3      LogisticRegression  0.719159\n",
       "4    KNeighborsClassifier  0.608643"
      ]
     },
     "execution_count": 14,
     "metadata": {},
     "output_type": "execute_result"
    }
   ],
   "source": [
    "model_selection(features,labels)\n",
    "    "
   ]
  },
  {
   "cell_type": "code",
   "execution_count": 15,
   "metadata": {
    "execution": {
     "iopub.execute_input": "2021-06-06T21:59:58.194330Z",
     "iopub.status.busy": "2021-06-06T21:59:58.193971Z",
     "iopub.status.idle": "2021-06-06T21:59:59.318204Z",
     "shell.execute_reply": "2021-06-06T21:59:59.317136Z",
     "shell.execute_reply.started": "2021-06-06T21:59:58.194295Z"
    }
   },
   "outputs": [],
   "source": [
    "model_SVC = LinearSVC()\n",
    "\n",
    "X_train, X_test, y_train, y_test, indices_train, indices_test = train_test_split(features, labels, df.index, test_size=0.20, random_state=42)\n",
    "model_SVC.fit(X_train, y_train)\n",
    "y_pred = model_SVC.predict(X_test)"
   ]
  },
  {
   "cell_type": "markdown",
   "metadata": {},
   "source": [
    "# Building BERT Model "
   ]
  },
  {
   "cell_type": "code",
   "execution_count": 17,
   "metadata": {
    "execution": {
     "iopub.execute_input": "2021-06-06T22:01:23.892155Z",
     "iopub.status.busy": "2021-06-06T22:01:23.891820Z",
     "iopub.status.idle": "2021-06-06T22:01:24.096541Z",
     "shell.execute_reply": "2021-06-06T22:01:24.095667Z",
     "shell.execute_reply.started": "2021-06-06T22:01:23.892124Z"
    }
   },
   "outputs": [],
   "source": [
    "data = pd.read_csv(\"../input/6-cat-data/third.csv\")\n",
    "def unicode_to_ascii(s):\n",
    "    return ''.join(c for c in unicodedata.normalize('NFD', s) if unicodedata.category(c) != 'Mn')\n",
    "\n",
    "def clean_stopwords_shortwords(w):\n",
    "    stopwords_list=stopwords.words('english')\n",
    "    words = w.split() \n",
    "    clean_words = [word for word in words if (word not in stopwords_list) and len(word) > 2]\n",
    "    return \" \".join(clean_words) \n",
    "\n",
    "def preprocess_sentence(w):\n",
    "    w = unicode_to_ascii(w.lower().strip())\n",
    "    w = re.sub(r\"([?.!,¿])\", r\" \", w)\n",
    "    w = re.sub(r'[\" \"]+', \" \", w)\n",
    "    w = re.sub(r\"[^a-zA-Z?.!,¿]+\", \" \", w)\n",
    "    w=clean_stopwords_shortwords(w)\n",
    "    w=re.sub(r'@\\w+', '',w)\n",
    "    return w"
   ]
  },
  {
   "cell_type": "code",
   "execution_count": 18,
   "metadata": {
    "execution": {
     "iopub.execute_input": "2021-06-06T22:04:46.978663Z",
     "iopub.status.busy": "2021-06-06T22:04:46.978280Z",
     "iopub.status.idle": "2021-06-06T22:04:46.986056Z",
     "shell.execute_reply": "2021-06-06T22:04:46.985216Z",
     "shell.execute_reply.started": "2021-06-06T22:04:46.978631Z"
    }
   },
   "outputs": [
    {
     "data": {
      "text/plain": [
       "array(['Distribution', 'IT-Services', 'Management-Services',\n",
       "       'Manufacturing', 'Research', 'Services', nan], dtype=object)"
      ]
     },
     "execution_count": 18,
     "metadata": {},
     "output_type": "execute_result"
    }
   ],
   "source": [
    "data.Category.unique()"
   ]
  },
  {
   "cell_type": "code",
   "execution_count": 24,
   "metadata": {
    "execution": {
     "iopub.execute_input": "2021-06-06T22:16:05.241318Z",
     "iopub.status.busy": "2021-06-06T22:16:05.240977Z",
     "iopub.status.idle": "2021-06-06T22:16:05.247163Z",
     "shell.execute_reply": "2021-06-06T22:16:05.246078Z",
     "shell.execute_reply.started": "2021-06-06T22:16:05.241283Z"
    }
   },
   "outputs": [],
   "source": [
    "data = data.drop(2126)"
   ]
  },
  {
   "cell_type": "code",
   "execution_count": 26,
   "metadata": {
    "execution": {
     "iopub.execute_input": "2021-06-06T22:16:31.220723Z",
     "iopub.status.busy": "2021-06-06T22:16:31.220406Z",
     "iopub.status.idle": "2021-06-06T22:16:52.472949Z",
     "shell.execute_reply": "2021-06-06T22:16:52.472193Z",
     "shell.execute_reply.started": "2021-06-06T22:16:31.220690Z"
    }
   },
   "outputs": [
    {
     "data": {
      "application/vnd.jupyter.widget-view+json": {
       "model_id": "d9bdaa8d200c455cb2c4b2efc9b500dd",
       "version_major": 2,
       "version_minor": 0
      },
      "text/plain": [
       "Downloading:   0%|          | 0.00/232k [00:00<?, ?B/s]"
      ]
     },
     "metadata": {},
     "output_type": "display_data"
    },
    {
     "data": {
      "application/vnd.jupyter.widget-view+json": {
       "model_id": "5efdcd519fb74704ad402879b8b97881",
       "version_major": 2,
       "version_minor": 0
      },
      "text/plain": [
       "Downloading:   0%|          | 0.00/28.0 [00:00<?, ?B/s]"
      ]
     },
     "metadata": {},
     "output_type": "display_data"
    },
    {
     "data": {
      "application/vnd.jupyter.widget-view+json": {
       "model_id": "912dcafa09934986bb0958cd76007870",
       "version_major": 2,
       "version_minor": 0
      },
      "text/plain": [
       "Downloading:   0%|          | 0.00/466k [00:00<?, ?B/s]"
      ]
     },
     "metadata": {},
     "output_type": "display_data"
    },
    {
     "data": {
      "application/vnd.jupyter.widget-view+json": {
       "model_id": "9e239eb6aa6f421886618030a639858c",
       "version_major": 2,
       "version_minor": 0
      },
      "text/plain": [
       "Downloading:   0%|          | 0.00/442 [00:00<?, ?B/s]"
      ]
     },
     "metadata": {},
     "output_type": "display_data"
    },
    {
     "data": {
      "application/vnd.jupyter.widget-view+json": {
       "model_id": "11d2dfb743744c69a34332c5424dc540",
       "version_major": 2,
       "version_minor": 0
      },
      "text/plain": [
       "Downloading:   0%|          | 0.00/363M [00:00<?, ?B/s]"
      ]
     },
     "metadata": {},
     "output_type": "display_data"
    },
    {
     "name": "stderr",
     "output_type": "stream",
     "text": [
      "Some layers from the model checkpoint at distilbert-base-uncased were not used when initializing TFDistilBertModel: ['vocab_projector', 'vocab_layer_norm', 'vocab_transform', 'activation_13']\n",
      "- This IS expected if you are initializing TFDistilBertModel from the checkpoint of a model trained on another task or with another architecture (e.g. initializing a BertForSequenceClassification model from a BertForPreTraining model).\n",
      "- This IS NOT expected if you are initializing TFDistilBertModel from the checkpoint of a model that you expect to be exactly identical (initializing a BertForSequenceClassification model from a BertForSequenceClassification model).\n",
      "All the layers of TFDistilBertModel were initialized from the model checkpoint at distilbert-base-uncased.\n",
      "If your task is similar to the task the model of the checkpoint was trained on, you can already use TFDistilBertModel for predictions without further training.\n"
     ]
    }
   ],
   "source": [
    "dbert_tokenizer = DistilBertTokenizer.from_pretrained('distilbert-base-uncased')\n",
    "dbert_model = TFDistilBertModel.from_pretrained('distilbert-base-uncased')"
   ]
  },
  {
   "cell_type": "code",
   "execution_count": 27,
   "metadata": {
    "execution": {
     "iopub.execute_input": "2021-06-06T22:16:54.528737Z",
     "iopub.status.busy": "2021-06-06T22:16:54.528398Z",
     "iopub.status.idle": "2021-06-06T22:16:54.535737Z",
     "shell.execute_reply": "2021-06-06T22:16:54.534606Z",
     "shell.execute_reply.started": "2021-06-06T22:16:54.528708Z"
    }
   },
   "outputs": [
    {
     "data": {
      "text/plain": [
       "(2126, 2126)"
      ]
     },
     "execution_count": 27,
     "metadata": {},
     "output_type": "execute_result"
    }
   ],
   "source": [
    "max_len=250\n",
    "sentences=data['text']\n",
    "labels=data['gt']\n",
    "len(sentences),len(labels)"
   ]
  },
  {
   "cell_type": "code",
   "execution_count": 28,
   "metadata": {
    "execution": {
     "iopub.execute_input": "2021-06-06T22:17:37.623261Z",
     "iopub.status.busy": "2021-06-06T22:17:37.622862Z",
     "iopub.status.idle": "2021-06-06T22:17:37.629155Z",
     "shell.execute_reply": "2021-06-06T22:17:37.628377Z",
     "shell.execute_reply.started": "2021-06-06T22:17:37.623216Z"
    }
   },
   "outputs": [],
   "source": [
    "def create_model():\n",
    "    inps = Input(shape = (max_len,), dtype='int64')\n",
    "    masks= Input(shape = (max_len,), dtype='int64')\n",
    "    dbert_layer = dbert_model(inps, attention_mask=masks)[0][:,0,:]\n",
    "    #kernel_regularizer=regularizers.l2(0.01)\n",
    "    dense = Dense(250,activation='relu',kernel_regularizer=regularizers.l2(0.01))(dbert_layer)\n",
    "    dropout= Dropout(0.5)(dense)\n",
    "    pred = Dense(num_classes, activation='softmax',kernel_regularizer=regularizers.l2(0.01))(dropout)\n",
    "    model = tf.keras.Model(inputs=[inps,masks], outputs=pred)\n",
    "    print(model.summary())\n",
    "    return model"
   ]
  },
  {
   "cell_type": "code",
   "execution_count": 29,
   "metadata": {
    "execution": {
     "iopub.execute_input": "2021-06-06T22:17:38.895182Z",
     "iopub.status.busy": "2021-06-06T22:17:38.894823Z",
     "iopub.status.idle": "2021-06-06T22:17:44.079917Z",
     "shell.execute_reply": "2021-06-06T22:17:44.079122Z",
     "shell.execute_reply.started": "2021-06-06T22:17:38.895152Z"
    }
   },
   "outputs": [
    {
     "name": "stdout",
     "output_type": "stream",
     "text": [
      "Model: \"model\"\n",
      "__________________________________________________________________________________________________\n",
      "Layer (type)                    Output Shape         Param #     Connected to                     \n",
      "==================================================================================================\n",
      "input_3 (InputLayer)            [(None, 250)]        0                                            \n",
      "__________________________________________________________________________________________________\n",
      "input_4 (InputLayer)            [(None, 250)]        0                                            \n",
      "__________________________________________________________________________________________________\n",
      "tf_distil_bert_model (TFDistilB TFBaseModelOutput(la 66362880    input_3[0][0]                    \n",
      "                                                                 input_4[0][0]                    \n",
      "__________________________________________________________________________________________________\n",
      "tf.__operators__.getitem (Slici (None, 768)          0           tf_distil_bert_model[0][0]       \n",
      "__________________________________________________________________________________________________\n",
      "dense (Dense)                   (None, 250)          192250      tf.__operators__.getitem[0][0]   \n",
      "__________________________________________________________________________________________________\n",
      "dropout_19 (Dropout)            (None, 250)          0           dense[0][0]                      \n",
      "__________________________________________________________________________________________________\n",
      "dense_1 (Dense)                 (None, 6)            1506        dropout_19[0][0]                 \n",
      "==================================================================================================\n",
      "Total params: 66,556,636\n",
      "Trainable params: 66,556,636\n",
      "Non-trainable params: 0\n",
      "__________________________________________________________________________________________________\n",
      "None\n"
     ]
    }
   ],
   "source": [
    "model22=create_model()"
   ]
  },
  {
   "cell_type": "code",
   "execution_count": 30,
   "metadata": {
    "execution": {
     "iopub.execute_input": "2021-06-06T22:18:04.819917Z",
     "iopub.status.busy": "2021-06-06T22:18:04.819600Z",
     "iopub.status.idle": "2021-06-06T22:20:02.609589Z",
     "shell.execute_reply": "2021-06-06T22:20:02.608702Z",
     "shell.execute_reply.started": "2021-06-06T22:18:04.819885Z"
    }
   },
   "outputs": [
    {
     "name": "stderr",
     "output_type": "stream",
     "text": [
      "/opt/conda/lib/python3.7/site-packages/transformers/tokenization_utils_base.py:2079: FutureWarning: The `pad_to_max_length` argument is deprecated and will be removed in a future version, use `padding=True` or `padding='longest'` to pad to the longest sequence in the batch, or use `padding='max_length'` to pad to a max length. In this case, you can give a specific length with `max_length` (e.g. `max_length=45`) or leave max_length to None to pad to the maximal input size of the model (e.g. 512 for Bert).\n",
      "  FutureWarning,\n"
     ]
    }
   ],
   "source": [
    "input_ids=[]\n",
    "attention_masks=[]\n",
    "\n",
    "for sent in sentences:\n",
    "    dbert_inps=dbert_tokenizer.encode_plus(sent,add_special_tokens = True,max_length =max_len,pad_to_max_length = True,return_attention_mask = True,truncation=True)\n",
    "    input_ids.append(dbert_inps['input_ids'])\n",
    "    attention_masks.append(dbert_inps['attention_mask'])\n",
    "    \n",
    "input_ids=np.asarray(input_ids)\n",
    "attention_masks=np.array(attention_masks)\n",
    "labels=np.array(labels)"
   ]
  },
  {
   "cell_type": "code",
   "execution_count": 31,
   "metadata": {
    "execution": {
     "iopub.execute_input": "2021-06-06T22:20:08.470247Z",
     "iopub.status.busy": "2021-06-06T22:20:08.469933Z",
     "iopub.status.idle": "2021-06-06T22:20:08.488442Z",
     "shell.execute_reply": "2021-06-06T22:20:08.487595Z",
     "shell.execute_reply.started": "2021-06-06T22:20:08.470214Z"
    }
   },
   "outputs": [
    {
     "name": "stdout",
     "output_type": "stream",
     "text": [
      "Preparing the pickle file.....\n",
      "Pickle files saved as  ../dbert_inp.pkl ./dbert_mask.pkl ./dbert_label.pkl\n"
     ]
    }
   ],
   "source": [
    "print('Preparing the pickle file.....')\n",
    "\n",
    "pickle_inp_path='../dbert_inp.pkl'\n",
    "pickle_mask_path='./dbert_mask.pkl'\n",
    "pickle_label_path='./dbert_label.pkl'\n",
    "\n",
    "pickle.dump((input_ids),open(pickle_inp_path,'wb'))\n",
    "pickle.dump((attention_masks),open(pickle_mask_path,'wb'))\n",
    "pickle.dump((labels),open(pickle_label_path,'wb'))\n",
    "\n",
    "\n",
    "print('Pickle files saved as ',pickle_inp_path,pickle_mask_path,pickle_label_path)"
   ]
  },
  {
   "cell_type": "code",
   "execution_count": 32,
   "metadata": {
    "execution": {
     "iopub.execute_input": "2021-06-06T22:20:10.582768Z",
     "iopub.status.busy": "2021-06-06T22:20:10.582444Z",
     "iopub.status.idle": "2021-06-06T22:20:10.592211Z",
     "shell.execute_reply": "2021-06-06T22:20:10.591216Z",
     "shell.execute_reply.started": "2021-06-06T22:20:10.582738Z"
    }
   },
   "outputs": [
    {
     "name": "stdout",
     "output_type": "stream",
     "text": [
      "Loading the saved pickle files..\n",
      "Input shape (2126, 250) Attention mask shape (2126, 250) Input label shape (2126,)\n"
     ]
    }
   ],
   "source": [
    "print('Loading the saved pickle files..')\n",
    "\n",
    "input_ids=pickle.load(open(pickle_inp_path, 'rb'))\n",
    "attention_masks=pickle.load(open(pickle_mask_path, 'rb'))\n",
    "labels=pickle.load(open(pickle_label_path, 'rb'))\n",
    "\n",
    "print('Input shape {} Attention mask shape {} Input label shape {}'.format(input_ids.shape,attention_masks.shape,labels.shape))"
   ]
  },
  {
   "cell_type": "code",
   "execution_count": 33,
   "metadata": {
    "execution": {
     "iopub.execute_input": "2021-06-06T22:20:41.445901Z",
     "iopub.status.busy": "2021-06-06T22:20:41.445565Z",
     "iopub.status.idle": "2021-06-06T22:20:41.449829Z",
     "shell.execute_reply": "2021-06-06T22:20:41.449010Z",
     "shell.execute_reply.started": "2021-06-06T22:20:41.445871Z"
    }
   },
   "outputs": [],
   "source": [
    "label_class_dict={0:'Services',1:'Manufacturing',2:'Distribution',3:'Research',4:'IT-Services',5:'Management-Services'}\n",
    "target_names=label_class_dict.values()"
   ]
  },
  {
   "cell_type": "code",
   "execution_count": 34,
   "metadata": {
    "execution": {
     "iopub.execute_input": "2021-06-06T22:20:58.452980Z",
     "iopub.status.busy": "2021-06-06T22:20:58.452647Z",
     "iopub.status.idle": "2021-06-06T22:20:58.484667Z",
     "shell.execute_reply": "2021-06-06T22:20:58.483789Z",
     "shell.execute_reply.started": "2021-06-06T22:20:58.452950Z"
    }
   },
   "outputs": [
    {
     "name": "stdout",
     "output_type": "stream",
     "text": [
      "Train inp shape (1700, 250) Val input shape (426, 250)\n",
      "Train label shape (1700,) Val label shape (426,)\n",
      "Train attention mask shape (1700, 250) Val attention mask shape (426, 250)\n"
     ]
    }
   ],
   "source": [
    "train_inp,val_inp,train_label,val_label,train_mask,val_mask=train_test_split(input_ids,labels,attention_masks,test_size=0.2,random_state = 42)\n",
    "\n",
    "print('Train inp shape {} Val input shape {}\\nTrain label shape {} Val label shape {}\\nTrain attention mask shape {} Val attention mask shape {}'.\n",
    "      format(train_inp.shape,val_inp.shape,train_label.shape,val_label.shape,train_mask.shape,val_mask.shape))\n",
    "\n",
    "\n",
    "log_dir='dbert_model_6_cat'\n",
    "model_save_path='./dbert_model_6_cat.h5'\n",
    "\n",
    "\n",
    "\n",
    "loss = tf.keras.losses.SparseCategoricalCrossentropy(from_logits=True)\n",
    "metric = tf.keras.metrics.SparseCategoricalAccuracy('accuracy')\n",
    "optimizer = tf.keras.optimizers.Adam(learning_rate=3e-5)\n",
    "\n",
    "model22.compile(loss=loss,optimizer=optimizer, metrics=[metric])"
   ]
  },
  {
   "cell_type": "code",
   "execution_count": 35,
   "metadata": {
    "execution": {
     "iopub.execute_input": "2021-06-06T22:21:03.454963Z",
     "iopub.status.busy": "2021-06-06T22:21:03.454650Z",
     "iopub.status.idle": "2021-06-06T22:21:04.106623Z",
     "shell.execute_reply": "2021-06-06T22:21:04.105786Z",
     "shell.execute_reply.started": "2021-06-06T22:21:03.454934Z"
    }
   },
   "outputs": [],
   "source": [
    "callbacks= [tf.keras.callbacks.EarlyStopping(monitor=\"val_accuracy\",patience=4,mode='max'),tf.keras.callbacks.ModelCheckpoint(filepath=model_save_path,save_weights_only=True,monitor='val_accuracy',\n",
    "                                               mode='max',save_best_only=True),keras.callbacks.TensorBoard(log_dir=log_dir)]\n",
    "model22.compile(loss=loss,optimizer=optimizer, metrics=[metric])"
   ]
  },
  {
   "cell_type": "code",
   "execution_count": 36,
   "metadata": {
    "execution": {
     "iopub.execute_input": "2021-06-06T22:21:07.774813Z",
     "iopub.status.busy": "2021-06-06T22:21:07.774442Z",
     "iopub.status.idle": "2021-06-06T22:28:57.690344Z",
     "shell.execute_reply": "2021-06-06T22:28:57.689349Z",
     "shell.execute_reply.started": "2021-06-06T22:21:07.774781Z"
    }
   },
   "outputs": [
    {
     "name": "stdout",
     "output_type": "stream",
     "text": [
      "Epoch 1/20\n",
      "107/107 [==============================] - 38s 289ms/step - loss: 5.5050 - accuracy: 0.2731 - val_loss: 4.8632 - val_accuracy: 0.5469\n",
      "Epoch 2/20\n",
      "107/107 [==============================] - 29s 267ms/step - loss: 4.7030 - accuracy: 0.5982 - val_loss: 4.5567 - val_accuracy: 0.6221\n",
      "Epoch 3/20\n",
      "107/107 [==============================] - 29s 267ms/step - loss: 4.2620 - accuracy: 0.7278 - val_loss: 4.3189 - val_accuracy: 0.6901\n",
      "Epoch 4/20\n",
      "107/107 [==============================] - 29s 267ms/step - loss: 3.9447 - accuracy: 0.8260 - val_loss: 4.2799 - val_accuracy: 0.6995\n",
      "Epoch 5/20\n",
      "107/107 [==============================] - 29s 267ms/step - loss: 3.6632 - accuracy: 0.8885 - val_loss: 4.1838 - val_accuracy: 0.7371\n",
      "Epoch 6/20\n",
      "107/107 [==============================] - 29s 267ms/step - loss: 3.4057 - accuracy: 0.9416 - val_loss: 4.2741 - val_accuracy: 0.7160\n",
      "Epoch 7/20\n",
      "107/107 [==============================] - 29s 268ms/step - loss: 3.2386 - accuracy: 0.9660 - val_loss: 4.3779 - val_accuracy: 0.7019\n",
      "Epoch 8/20\n",
      "107/107 [==============================] - 29s 267ms/step - loss: 3.0944 - accuracy: 0.9793 - val_loss: 4.0943 - val_accuracy: 0.7441\n",
      "Epoch 9/20\n",
      "107/107 [==============================] - 29s 267ms/step - loss: 2.9679 - accuracy: 0.9867 - val_loss: 4.1604 - val_accuracy: 0.7371\n",
      "Epoch 10/20\n",
      "107/107 [==============================] - 29s 267ms/step - loss: 2.8324 - accuracy: 0.9950 - val_loss: 4.1185 - val_accuracy: 0.7324\n",
      "Epoch 11/20\n",
      "107/107 [==============================] - 28s 266ms/step - loss: 2.7212 - accuracy: 0.9969 - val_loss: 4.2730 - val_accuracy: 0.7207\n",
      "Epoch 12/20\n",
      "107/107 [==============================] - 29s 267ms/step - loss: 2.6029 - accuracy: 1.0000 - val_loss: 4.1298 - val_accuracy: 0.7488\n",
      "Epoch 13/20\n",
      "107/107 [==============================] - 29s 267ms/step - loss: 2.4935 - accuracy: 1.0000 - val_loss: 4.0167 - val_accuracy: 0.7418\n",
      "Epoch 14/20\n",
      "107/107 [==============================] - 28s 266ms/step - loss: 2.3846 - accuracy: 0.9998 - val_loss: 3.8638 - val_accuracy: 0.7254\n",
      "Epoch 15/20\n",
      "107/107 [==============================] - 29s 267ms/step - loss: 2.2858 - accuracy: 0.9974 - val_loss: 3.8099 - val_accuracy: 0.7371\n",
      "Epoch 16/20\n",
      "107/107 [==============================] - 29s 267ms/step - loss: 2.2131 - accuracy: 0.9887 - val_loss: 3.5760 - val_accuracy: 0.6925\n"
     ]
    }
   ],
   "source": [
    "history=model22.fit([train_inp,train_mask],train_label,batch_size=16,epochs=20 ,validation_data=([val_inp,val_mask],val_label),callbacks=callbacks)"
   ]
  },
  {
   "cell_type": "code",
   "execution_count": 37,
   "metadata": {
    "execution": {
     "iopub.execute_input": "2021-06-06T22:29:04.169864Z",
     "iopub.status.busy": "2021-06-06T22:29:04.169544Z",
     "iopub.status.idle": "2021-06-06T22:29:04.738290Z",
     "shell.execute_reply": "2021-06-06T22:29:04.737509Z",
     "shell.execute_reply.started": "2021-06-06T22:29:04.169834Z"
    }
   },
   "outputs": [
    {
     "name": "stdout",
     "output_type": "stream",
     "text": [
      "dict_keys(['loss', 'accuracy', 'val_loss', 'val_accuracy'])\n"
     ]
    },
    {
     "data": {
      "image/png": "[encoded data removed]",
      "text/plain": [
       "<Figure size 432x288 with 1 Axes>"
      ]
     },
     "metadata": {
      "needs_background": "light"
     },
     "output_type": "display_data"
    },
    {
     "data": {
      "image/png": "[encoded data removed]",
      "text/plain": [
       "<Figure size 432x288 with 1 Axes>"
      ]
     },
     "metadata": {
      "needs_background": "light"
     },
     "output_type": "display_data"
    }
   ],
   "source": [
    "print(history.history.keys())\n",
    "# summarize history for accuracy\n",
    "plt.plot(history.history['accuracy'])\n",
    "plt.plot(history.history['val_accuracy'])\n",
    "plt.title('model accuracy')\n",
    "plt.ylabel('accuracy')\n",
    "plt.xlabel('epoch')\n",
    "plt.legend(['train', 'test'], loc='upper left')\n",
    "plt.show()\n",
    "# summarize history for loss\n",
    "plt.plot(history.history['loss'])\n",
    "plt.plot(history.history['val_loss'])\n",
    "plt.title('model loss')\n",
    "plt.ylabel('loss')\n",
    "plt.xlabel('epoch')\n",
    "plt.legend(['train', 'test'], loc='upper left')\n",
    "plt.show()"
   ]
  },
  {
   "cell_type": "code",
   "execution_count": 38,
   "metadata": {
    "execution": {
     "iopub.execute_input": "2021-06-06T22:29:41.718303Z",
     "iopub.status.busy": "2021-06-06T22:29:41.717779Z",
     "iopub.status.idle": "2021-06-06T22:29:42.831753Z",
     "shell.execute_reply": "2021-06-06T22:29:42.830888Z",
     "shell.execute_reply.started": "2021-06-06T22:29:41.718247Z"
    }
   },
   "outputs": [
    {
     "name": "stdout",
     "output_type": "stream",
     "text": [
      "Model: \"model_1\"\n",
      "__________________________________________________________________________________________________\n",
      "Layer (type)                    Output Shape         Param #     Connected to                     \n",
      "==================================================================================================\n",
      "input_5 (InputLayer)            [(None, 250)]        0                                            \n",
      "__________________________________________________________________________________________________\n",
      "input_6 (InputLayer)            [(None, 250)]        0                                            \n",
      "__________________________________________________________________________________________________\n",
      "tf_distil_bert_model (TFDistilB TFBaseModelOutput(la 66362880    input_5[0][0]                    \n",
      "                                                                 input_6[0][0]                    \n",
      "__________________________________________________________________________________________________\n",
      "tf.__operators__.getitem_1 (Sli (None, 768)          0           tf_distil_bert_model[1][0]       \n",
      "__________________________________________________________________________________________________\n",
      "dense_2 (Dense)                 (None, 250)          192250      tf.__operators__.getitem_1[0][0] \n",
      "__________________________________________________________________________________________________\n",
      "dropout_20 (Dropout)            (None, 250)          0           dense_2[0][0]                    \n",
      "__________________________________________________________________________________________________\n",
      "dense_3 (Dense)                 (None, 6)            1506        dropout_20[0][0]                 \n",
      "==================================================================================================\n",
      "Total params: 66,556,636\n",
      "Trainable params: 66,556,636\n",
      "Non-trainable params: 0\n",
      "__________________________________________________________________________________________________\n",
      "None\n"
     ]
    }
   ],
   "source": [
    "trained_model1 = create_model()\n",
    "trained_model1.compile(loss=loss,optimizer=optimizer, metrics=[metric])\n",
    "trained_model1.load_weights(model_save_path)"
   ]
  },
  {
   "cell_type": "markdown",
   "metadata": {},
   "source": [
    "# Evaluating BERT and best ML method, Selecting best of ALL"
   ]
  },
  {
   "cell_type": "code",
   "execution_count": 42,
   "metadata": {
    "execution": {
     "iopub.execute_input": "2021-06-06T22:32:11.144064Z",
     "iopub.status.busy": "2021-06-06T22:32:11.143741Z",
     "iopub.status.idle": "2021-06-06T22:32:11.160523Z",
     "shell.execute_reply": "2021-06-06T22:32:11.159464Z",
     "shell.execute_reply.started": "2021-06-06T22:32:11.144032Z"
    }
   },
   "outputs": [],
   "source": [
    "from sklearn.metrics import roc_auc_score\n",
    "from sklearn import preprocessing\n",
    "from sklearn.metrics import matthews_corrcoef\n",
    "\n",
    "def model_metrics(model):\n",
    "    \n",
    "    def multiclass_roc_auc_score(y_test, y_pred):\n",
    "        lb = preprocessing.LabelBinarizer()\n",
    "        lb.fit(y_test)\n",
    "        y_test = lb.transform(y_test)\n",
    "        y_pred = lb.transform(y_pred)\n",
    "        return roc_auc_score(y_test, y_pred, multi_class='ovo')\n",
    "    \n",
    "    target_names=['Services','Manufacturing','Distribution','Research','IT-Services','Management-Services']\n",
    "    \n",
    "\n",
    "    \n",
    "    if model != trained_model1:\n",
    "    \n",
    "        \n",
    "        model.fit(X_train, y_train)\n",
    "        preds = model.predict(X_test)\n",
    "        \n",
    "        f1 = f1_score(y_test,preds,average = 'weighted')\n",
    "        confusionmatrix = confusion_matrix(y_test, y_pred)\n",
    "        accuracy = sum(y_test==preds)/len(y_test)\n",
    "        print(\"Accuracy is: \"+str(accuracy),\"\\n\")\n",
    "    \n",
    "        print(\"F1 score: \"+str(f1),\"\\n\")\n",
    "        print(\"ROC_AUC score is : \" +str(multiclass_roc_auc_score(y_test, preds)),\"\\n\")\n",
    "        print(\"MCC score is : \" + str(matthews_corrcoef(y_test,preds)),\"\\n\")\n",
    "        \n",
    "        print('Classification Report',\"\\n\")\n",
    "        print(classification_report(y_test,preds,target_names=target_names),\"\\n\")\n",
    "        \n",
    "        fig, ax = plt.subplots(figsize=(8,6))\n",
    "        sns.heatmap(confusionmatrix, annot=True, fmt='d',\n",
    "            xticklabels=category_id_df.Category.values, yticklabels=category_id_df.Category.values)\n",
    "        plt.ylabel('Actual')\n",
    "        plt.xlabel('Predicted')\n",
    "        plt.show()\n",
    "        \n",
    "        return f1,accuracy,multiclass_roc_auc_score(y_test, preds),matthews_corrcoef(y_test,preds)\n",
    "          \n",
    "    else:\n",
    "        preds = trained_model1.predict([val_inp,val_mask],batch_size=16)\n",
    "        pred_labels = preds.argmax(axis=1)\n",
    "        f1 = f1_score(val_label,pred_labels,average = 'weighted')\n",
    "        accuracy = sum(val_label==pred_labels)/len(val_label)\n",
    "        print(\"Accuracy is: \"+str(accuracy),\"\\n\")\n",
    "    \n",
    "        print(\"F1 score: \"+str(f1),\"\\n\")\n",
    "        confusionmatrix = pd.DataFrame(confusion_matrix(val_label, pred_labels))\n",
    "        label_class_dict=['Services','Manufacturing','Distribution','Research','IT-Services','Management-Services']\n",
    "        confusionmatrix[\"Labels\"] = label_class_dict\n",
    "        confusionmatrix = confusionmatrix.set_index(confusionmatrix[\"Labels\"])\n",
    "        confusionmatrix = confusionmatrix.rename(columns = {0:'Services',1:'Manufacturing',2:'Distribution',3:'Research',4:'IT-Services',5:'Management-Services'})\n",
    "        confusionmatrix = confusionmatrix[['Services','Manufacturing','Distribution','Research','IT-Services','Management-Services']]\n",
    "        print(\"ROC_AUC score is : \" +str(multiclass_roc_auc_score(val_label, pred_labels)),\"\\n\")\n",
    "        print(\"MCC score is : \" + str(matthews_corrcoef(val_label, pred_labels)),\"\\n\")\n",
    "        \n",
    "        evaluation = trained_model1.evaluate([val_inp,val_mask],batch_size=32)\n",
    "        cross_entropy_loss = evaluation[0]\n",
    "    \n",
    "        print(\"Categorica Crossentropy loss is :\"+ str(cross_entropy_loss),\"\\n\")\n",
    "        \n",
    "        print('Classification Report',\"\\n\")\n",
    "        print(classification_report(val_label,pred_labels,target_names=target_names),\"\\n\")\n",
    "\n",
    "    \n",
    "        print(\"Confusion Matrix\")\n",
    "        \n",
    "        print(confusionmatrix)\n",
    "    \n",
    "        return f1,accuracy,multiclass_roc_auc_score(val_label, pred_labels),matthews_corrcoef(val_label, pred_labels)\n",
    "           "
   ]
  },
  {
   "cell_type": "code",
   "execution_count": 43,
   "metadata": {
    "execution": {
     "iopub.execute_input": "2021-06-06T22:32:15.857802Z",
     "iopub.status.busy": "2021-06-06T22:32:15.857398Z",
     "iopub.status.idle": "2021-06-06T22:32:15.870317Z",
     "shell.execute_reply": "2021-06-06T22:32:15.869360Z",
     "shell.execute_reply.started": "2021-06-06T22:32:15.857762Z"
    }
   },
   "outputs": [],
   "source": [
    "def select_best_model(model1,model2):\n",
    "    print(\"######## Results of \"+str(model1)+\"###########\",\"\\n\")\n",
    "    model1_Acc,model1_F1,model1_ROC,model1_MCC = model_metrics(model1)\n",
    "    print(\"\\n\",\"######## Results of \"+str(model2)+\"###########\",\"\\n\")\n",
    "    model2_Acc,model2_F1,model2_ROC,model2_MCC = model_metrics(model2)\n",
    "    \n",
    "    print(\"####################################################################\",\"\\n\",\n",
    "          \"#####################################################################\",\"\\n\")\n",
    "        \n",
    "    \n",
    "    result_model1 = (model1_Acc+model1_F1+model1_ROC+model1_MCC)/4\n",
    "    result_model2 = (model2_Acc+model2_F1+model2_ROC+model2_MCC)/4\n",
    "    \n",
    "    if result_model1>=result_model2:\n",
    "        best = model1\n",
    "        score = result_model1\n",
    "        print(\"########### Best Model is : \"+str(model1)+\"###########\",\"\\n\")\n",
    "        \n",
    "    else:\n",
    "        best = model2\n",
    "        score = result_model2\n",
    "        print(\"########### Best Model is : \"+str(model2)+\"###########\",\"\\n\")\n",
    "        \n",
    "\n",
    "    print(\"Average Result of Best Model is \"+str(score))"
   ]
  },
  {
   "cell_type": "code",
   "execution_count": 44,
   "metadata": {
    "execution": {
     "iopub.execute_input": "2021-06-06T22:32:16.898844Z",
     "iopub.status.busy": "2021-06-06T22:32:16.898544Z",
     "iopub.status.idle": "2021-06-06T22:32:21.508483Z",
     "shell.execute_reply": "2021-06-06T22:32:21.507456Z",
     "shell.execute_reply.started": "2021-06-06T22:32:16.898816Z"
    }
   },
   "outputs": [
    {
     "name": "stdout",
     "output_type": "stream",
     "text": [
      "######## Results of <tensorflow.python.keras.engine.functional.Functional object at 0x7fbfeb90a3d0>########### \n",
      "\n",
      "Accuracy is: 0.7488262910798122 \n",
      "\n",
      "F1 score: 0.7431301126570102 \n",
      "\n",
      "ROC_AUC score is : 0.8276134229550801 \n",
      "\n",
      "MCC score is : 0.6861819835084745 \n",
      "\n",
      "14/14 [==============================] - 1s 2ms/step - loss: 2.5172 - accuracy: 0.6925\n",
      "Categorica Crossentropy loss is :2.5172009468078613 \n",
      "\n",
      "Classification Report \n",
      "\n",
      "                     precision    recall  f1-score   support\n",
      "\n",
      "           Services       0.72      0.81      0.76       120\n",
      "      Manufacturing       0.66      0.48      0.56        52\n",
      "       Distribution       0.72      0.70      0.71        88\n",
      "           Research       0.73      0.55      0.63        29\n",
      "        IT-Services       0.88      0.78      0.82        54\n",
      "Management-Services       0.79      0.93      0.86        83\n",
      "\n",
      "           accuracy                           0.75       426\n",
      "          macro avg       0.75      0.71      0.72       426\n",
      "       weighted avg       0.75      0.75      0.74       426\n",
      " \n",
      "\n",
      "Confusion Matrix\n",
      "                     Services  Manufacturing  Distribution  Research  \\\n",
      "Labels                                                                 \n",
      "Services                   97              2             7         0   \n",
      "Manufacturing               8             25            15         1   \n",
      "Distribution               14              8            62         2   \n",
      "Research                    7              3             1        16   \n",
      "IT-Services                 5              0             1         2   \n",
      "Management-Services         4              0             0         1   \n",
      "\n",
      "                     IT-Services  Management-Services  \n",
      "Labels                                                 \n",
      "Services                       2                   12  \n",
      "Manufacturing                  1                    2  \n",
      "Distribution                   2                    0  \n",
      "Research                       0                    2  \n",
      "IT-Services                   42                    4  \n",
      "Management-Services            1                   77  \n",
      "\n",
      " ######## Results of LinearSVC()########### \n",
      "\n",
      "Accuracy is: 0.7676056338028169 \n",
      "\n",
      "F1 score: 0.7640333703992738 \n",
      "\n",
      "ROC_AUC score is : 0.8461545654023199 \n",
      "\n",
      "MCC score is : 0.7105962405132583 \n",
      "\n",
      "Classification Report \n",
      "\n",
      "                     precision    recall  f1-score   support\n",
      "\n",
      "           Services       0.79      0.78      0.79        88\n",
      "      Manufacturing       0.75      0.81      0.78        54\n",
      "       Distribution       0.79      0.90      0.84        83\n",
      "           Research       0.78      0.56      0.65        52\n",
      "        IT-Services       0.78      0.62      0.69        29\n",
      "Management-Services       0.74      0.77      0.75       120\n",
      "\n",
      "           accuracy                           0.77       426\n",
      "          macro avg       0.77      0.74      0.75       426\n",
      "       weighted avg       0.77      0.77      0.76       426\n",
      " \n",
      "\n"
     ]
    },
    {
     "data": {
      "image/png": "[encoded data removed]",
      "text/plain": [
       "<Figure size 576x432 with 2 Axes>"
      ]
     },
     "metadata": {
      "needs_background": "light"
     },
     "output_type": "display_data"
    },
    {
     "name": "stdout",
     "output_type": "stream",
     "text": [
      "#################################################################### \n",
      " ##################################################################### \n",
      "\n",
      "########### Best Model is : LinearSVC()########### \n",
      "\n",
      "Average Result of Best Model is 0.7720974525294172\n"
     ]
    }
   ],
   "source": [
    "select_best_model(trained_model1,model_SVC)"
   ]
  },
  {
   "cell_type": "markdown",
   "metadata": {},
   "source": [
    "# Based on results best model is LinearSVC model for 6 category \n"
   ]
  },
  {
   "cell_type": "code",
   "execution_count": null,
   "metadata": {},
   "outputs": [],
   "source": []
  }
 ],
 "metadata": {
  "kernelspec": {
   "display_name": "Python 3 (ipykernel)",
   "language": "python",
   "name": "python3"
  },
  "language_info": {
   "codemirror_mode": {
    "name": "ipython",
    "version": 3
   },
   "file_extension": ".py",
   "mimetype": "text/x-python",
   "name": "python",
   "nbconvert_exporter": "python",
   "pygments_lexer": "ipython3",
   "version": "3.9.7"
  }
 },
 "nbformat": 4,
 "nbformat_minor": 4
}
